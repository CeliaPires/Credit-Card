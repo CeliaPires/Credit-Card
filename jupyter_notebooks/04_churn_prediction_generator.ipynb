{
 "cells": [
  {
   "cell_type": "markdown",
   "id": "10579878",
   "metadata": {},
   "source": [
    "# 🚀 Churn Prediction Generator\n",
    "\n",
    "## 🎯 Objective\n",
    "\n",
    "In this notebook, we will:\n",
    "\n",
    "- Load the already trained Logistic Regression churn prediction model\n",
    "- Apply the model to the cleaned encoded dataset\n",
    "- Generate churn predictions for each customer\n",
    "- Save the new dataset with predictions into a new CSV file\n",
    "\n",
    "---\n"
   ]
  }
 ],
 "metadata": {
  "language_info": {
   "name": "python"
  }
 },
 "nbformat": 4,
 "nbformat_minor": 5
}
