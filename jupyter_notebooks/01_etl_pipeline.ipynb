{
  "cells": [
    {
      "cell_type": "markdown",
      "metadata": {},
      "source": [
        "# Notebook 1: ETL Pipeline\n",
        "\n",
        "## ETL Pipeline for Credit Card Churn Analysis\n",
        "\n",
        "- **Extract:** Load the credit card customer data from the dataset.\n",
        "- **Transform:** Clean the data by removing duplicates, checking for and handling missing values, standardizing categorical variables, encoding categories into numeric form, and creating useful features like credit utilization ratio.\n",
        "- **Load:** Save the cleaned and processed dataset for further analysis and predictive modeling to identify customers likely to churn.\n",
        "\n",
        "This pipeline ensures your data is reliable and ready to build effective churn prediction models.\n",
        "\n",
        "### Column Descriptions\n",
        "\n",
        "| Column                       | Description                                                  |\n",
        "| ---------------------------- | ------------------------------------------------------------ |\n",
        "| **CLIENTNUM**                | Unique customer ID number                                    |\n",
        "| **Attrition_Flag**           | Whether customer left the service or stayed (TARGET VARIABLE)|\n",
        "| **Customer_Age**             | Age of the customer in years                                 |\n",
        "| **Gender**                   | Male or Female                                               |\n",
        "| **Dependent_count**          | Number of dependents (family members)                        |\n",
        "| **Education_Level**          | Customer's education level                                   |\n",
        "| **Marital_Status**           | Single, Married, or Divorced                                 |\n",
        "| **Income_Category**          | Annual income range category                                 |\n",
        "| **Card_Category**            | Type of credit card (Blue, Silver, Gold, Platinum)           |\n",
        "| **Months_on_book**           | How long customer has been with the company                  |\n",
        "| **Total_Relationship_Count** | Number of products customer has with the company             |\n",
        "| **Months_Inactive_12_mon**   | Number of months customer was inactive in last 12 months     |\n",
        "| **Contacts_Count_12_mon**    | Number of times customer contacted company in last 12 months |\n",
        "| **Credit_Limit**             | Maximum credit limit allowed                                 |\n",
        "| **Total_Revolving_Bal**      | Outstanding balance on the card                              |\n",
        "| **Avg_Open_To_Buy**          | Average available credit remaining                           |\n",
        "| **Total_Amt_Chng_Q4_Q1**     | Change in transaction amount from Q4 to Q1                   |\n",
        "| **Total_Trans_Amt**          | Total transaction amount in last 12 months                   |\n",
        "| **Total_Trans_Ct**           | Total transaction count in last 12 months                    |\n",
        "| **Total_Ct_Chng_Q4_Q1**      | Change in transaction count from Q4 to Q1                    |\n",
        "| **Avg_Utilization_Ratio**    | How much of credit limit is being used                       |\n",
        "| **NB_Stay_Probabilty**       | Probability customer will stay                               |\n",
        "| **NB_Churn_Probality**       | Probability customer will leave                              |"
      ]
    },
    {
      "cell_type": "markdown",
      "metadata": {},
      "source": [
        "# 📥 Step 1: Extract\n",
        "\n",
        "In this step, we will load (extract) the raw dataset into our working environment for further processing.\n",
        "\n",
        "---\n",
        "\n",
        "### ✅ 1️⃣ Import Required Libraries\n",
        "\n",
        "We start by importing the necessary libraries for data handling.\n"
      ]
    },
    {
      "cell_type": "code",
      "execution_count": 8,
      "metadata": {},
      "outputs": [],
      "source": [
        "import pandas as pd\n",
        "import numpy as np"
      ]
    },
    {
      "cell_type": "code",
      "execution_count": 12,
      "metadata": {},
      "outputs": [],
      "source": [
        "# Extract: Load the data\n",
        "df = pd.read_csv(\"../data/raw_data/BankChurners.csv\")\n"
      ]
    },
    {
      "cell_type": "code",
      "execution_count": null,
      "metadata": {},
      "outputs": [],
      "source": []
    }
  ],
  "metadata": {
    "accelerator": "GPU",
    "colab": {
      "name": "Data Practitioner Jupyter Notebook.ipynb",
      "provenance": [],
      "toc_visible": true
    },
    "kernelspec": {
      "display_name": ".venv",
      "language": "python",
      "name": "python3"
    },
    "language_info": {
      "codemirror_mode": {
        "name": "ipython",
        "version": 3
      },
      "file_extension": ".py",
      "mimetype": "text/x-python",
      "name": "python",
      "nbconvert_exporter": "python",
      "pygments_lexer": "ipython3",
      "version": "3.13.0"
    },
    "orig_nbformat": 2
  },
  "nbformat": 4,
  "nbformat_minor": 2
}
